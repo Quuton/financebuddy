{
 "cells": [
  {
   "cell_type": "code",
   "execution_count": 1,
   "metadata": {},
   "outputs": [],
   "source": [
    "import pandas as pd\n",
    "import numpy as np\n",
    "import datetime\n",
    "from sklearn.tree import DecisionTreeClassifier\n",
    "from sklearn.model_selection import train_test_split\n",
    "from sklearn.preprocessing import StandardScaler\n",
    "from sklearn.neural_network import MLPClassifier\n",
    "from sklearn.metrics import accuracy_score, confusion_matrix, classification_report\n",
    "from statsmodels.tsa.holtwinters import ExponentialSmoothing\n",
    "import plotly.graph_objects as go"
   ]
  },
  {
   "cell_type": "markdown",
   "metadata": {},
   "source": [
    "## More stupid Preprocessing"
   ]
  },
  {
   "cell_type": "code",
   "execution_count": 2,
   "metadata": {},
   "outputs": [],
   "source": [
    "INFLATION_FILEPATH = \"Processed Datasets/inflation.csv\"\n",
    "INTEREST_FILEPATH = \"Processed Datasets/interest.csv\"\n",
    "CPI_FILEPATH = 'Processed Datasets/reformatted/PHILIPPINES.csv'\n",
    "\n",
    "# PROCESSED_OUTPUT_DIR = 'Processed Datasets/'\n",
    "# PROCESSED_DATASET_SPLIT_STAGE_DIR = PROCESSED_OUTPUT_DIR + 'reformatted/'\n",
    "# FORECAST_DATASET_DIR = \"Forecasts/\"\n"
   ]
  },
  {
   "cell_type": "code",
   "execution_count": 3,
   "metadata": {},
   "outputs": [],
   "source": [
    "# files = [f for f in os.listdir(PROCESSED_DATASET_SPLIT_STAGE_DIR) if os.path.isfile(os.path.join(PROCESSED_DATASET_SPLIT_STAGE_DIR, f))]"
   ]
  },
  {
   "cell_type": "code",
   "execution_count": 4,
   "metadata": {},
   "outputs": [],
   "source": [
    "inflation_csv = pd.read_csv(INFLATION_FILEPATH)\n",
    "interest_csv = pd.read_csv(INTEREST_FILEPATH)\n",
    "cpi_csv = pd.read_csv(CPI_FILEPATH)\n"
   ]
  },
  {
   "cell_type": "code",
   "execution_count": 5,
   "metadata": {},
   "outputs": [
    {
     "data": {
      "text/html": [
       "<div>\n",
       "<style scoped>\n",
       "    .dataframe tbody tr th:only-of-type {\n",
       "        vertical-align: middle;\n",
       "    }\n",
       "\n",
       "    .dataframe tbody tr th {\n",
       "        vertical-align: top;\n",
       "    }\n",
       "\n",
       "    .dataframe thead th {\n",
       "        text-align: right;\n",
       "    }\n",
       "</style>\n",
       "<table border=\"1\" class=\"dataframe\">\n",
       "  <thead>\n",
       "    <tr style=\"text-align: right;\">\n",
       "      <th></th>\n",
       "      <th>Unnamed: 0</th>\n",
       "      <th>Date</th>\n",
       "      <th>Food_and_drinks</th>\n",
       "      <th>Alcohol_and_tobacco</th>\n",
       "      <th>Household_consumable_goods</th>\n",
       "      <th>Medication</th>\n",
       "      <th>Stationery</th>\n",
       "      <th>Year</th>\n",
       "      <th>Month</th>\n",
       "    </tr>\n",
       "  </thead>\n",
       "  <tbody>\n",
       "    <tr>\n",
       "      <th>0</th>\n",
       "      <td>0</td>\n",
       "      <td>2018-01-01</td>\n",
       "      <td>97.1</td>\n",
       "      <td>92.0</td>\n",
       "      <td>98.3</td>\n",
       "      <td>98.6</td>\n",
       "      <td>98.1</td>\n",
       "      <td>2018</td>\n",
       "      <td>1</td>\n",
       "    </tr>\n",
       "    <tr>\n",
       "      <th>1</th>\n",
       "      <td>1</td>\n",
       "      <td>2018-02-01</td>\n",
       "      <td>97.4</td>\n",
       "      <td>96.3</td>\n",
       "      <td>98.5</td>\n",
       "      <td>98.9</td>\n",
       "      <td>98.3</td>\n",
       "      <td>2018</td>\n",
       "      <td>2</td>\n",
       "    </tr>\n",
       "    <tr>\n",
       "      <th>2</th>\n",
       "      <td>2</td>\n",
       "      <td>2018-03-01</td>\n",
       "      <td>97.6</td>\n",
       "      <td>98.1</td>\n",
       "      <td>99.1</td>\n",
       "      <td>99.2</td>\n",
       "      <td>98.6</td>\n",
       "      <td>2018</td>\n",
       "      <td>3</td>\n",
       "    </tr>\n",
       "    <tr>\n",
       "      <th>3</th>\n",
       "      <td>3</td>\n",
       "      <td>2018-04-01</td>\n",
       "      <td>98.0</td>\n",
       "      <td>99.3</td>\n",
       "      <td>99.3</td>\n",
       "      <td>99.4</td>\n",
       "      <td>98.7</td>\n",
       "      <td>2018</td>\n",
       "      <td>4</td>\n",
       "    </tr>\n",
       "    <tr>\n",
       "      <th>4</th>\n",
       "      <td>4</td>\n",
       "      <td>2018-05-01</td>\n",
       "      <td>98.1</td>\n",
       "      <td>99.9</td>\n",
       "      <td>99.4</td>\n",
       "      <td>99.7</td>\n",
       "      <td>99.1</td>\n",
       "      <td>2018</td>\n",
       "      <td>5</td>\n",
       "    </tr>\n",
       "    <tr>\n",
       "      <th>...</th>\n",
       "      <td>...</td>\n",
       "      <td>...</td>\n",
       "      <td>...</td>\n",
       "      <td>...</td>\n",
       "      <td>...</td>\n",
       "      <td>...</td>\n",
       "      <td>...</td>\n",
       "      <td>...</td>\n",
       "      <td>...</td>\n",
       "    </tr>\n",
       "    <tr>\n",
       "      <th>76</th>\n",
       "      <td>76</td>\n",
       "      <td>2024-05-01</td>\n",
       "      <td>128.7</td>\n",
       "      <td>176.8</td>\n",
       "      <td>125.5</td>\n",
       "      <td>120.1</td>\n",
       "      <td>130.5</td>\n",
       "      <td>2024</td>\n",
       "      <td>5</td>\n",
       "    </tr>\n",
       "    <tr>\n",
       "      <th>77</th>\n",
       "      <td>77</td>\n",
       "      <td>2024-06-01</td>\n",
       "      <td>129.5</td>\n",
       "      <td>177.0</td>\n",
       "      <td>125.6</td>\n",
       "      <td>120.3</td>\n",
       "      <td>130.8</td>\n",
       "      <td>2024</td>\n",
       "      <td>6</td>\n",
       "    </tr>\n",
       "    <tr>\n",
       "      <th>78</th>\n",
       "      <td>78</td>\n",
       "      <td>2024-07-01</td>\n",
       "      <td>130.4</td>\n",
       "      <td>177.0</td>\n",
       "      <td>125.8</td>\n",
       "      <td>120.6</td>\n",
       "      <td>131.7</td>\n",
       "      <td>2024</td>\n",
       "      <td>7</td>\n",
       "    </tr>\n",
       "    <tr>\n",
       "      <th>79</th>\n",
       "      <td>79</td>\n",
       "      <td>2024-08-01</td>\n",
       "      <td>130.4</td>\n",
       "      <td>177.2</td>\n",
       "      <td>126.0</td>\n",
       "      <td>120.7</td>\n",
       "      <td>133.3</td>\n",
       "      <td>2024</td>\n",
       "      <td>8</td>\n",
       "    </tr>\n",
       "    <tr>\n",
       "      <th>80</th>\n",
       "      <td>80</td>\n",
       "      <td>2024-09-01</td>\n",
       "      <td>129.8</td>\n",
       "      <td>177.5</td>\n",
       "      <td>126.2</td>\n",
       "      <td>121.0</td>\n",
       "      <td>133.7</td>\n",
       "      <td>2024</td>\n",
       "      <td>9</td>\n",
       "    </tr>\n",
       "  </tbody>\n",
       "</table>\n",
       "<p>81 rows × 9 columns</p>\n",
       "</div>"
      ],
      "text/plain": [
       "    Unnamed: 0       Date  Food_and_drinks  Alcohol_and_tobacco  \\\n",
       "0            0 2018-01-01             97.1                 92.0   \n",
       "1            1 2018-02-01             97.4                 96.3   \n",
       "2            2 2018-03-01             97.6                 98.1   \n",
       "3            3 2018-04-01             98.0                 99.3   \n",
       "4            4 2018-05-01             98.1                 99.9   \n",
       "..         ...        ...              ...                  ...   \n",
       "76          76 2024-05-01            128.7                176.8   \n",
       "77          77 2024-06-01            129.5                177.0   \n",
       "78          78 2024-07-01            130.4                177.0   \n",
       "79          79 2024-08-01            130.4                177.2   \n",
       "80          80 2024-09-01            129.8                177.5   \n",
       "\n",
       "    Household_consumable_goods  Medication  Stationery  Year  Month  \n",
       "0                         98.3        98.6        98.1  2018      1  \n",
       "1                         98.5        98.9        98.3  2018      2  \n",
       "2                         99.1        99.2        98.6  2018      3  \n",
       "3                         99.3        99.4        98.7  2018      4  \n",
       "4                         99.4        99.7        99.1  2018      5  \n",
       "..                         ...         ...         ...   ...    ...  \n",
       "76                       125.5       120.1       130.5  2024      5  \n",
       "77                       125.6       120.3       130.8  2024      6  \n",
       "78                       125.8       120.6       131.7  2024      7  \n",
       "79                       126.0       120.7       133.3  2024      8  \n",
       "80                       126.2       121.0       133.7  2024      9  \n",
       "\n",
       "[81 rows x 9 columns]"
      ]
     },
     "execution_count": 5,
     "metadata": {},
     "output_type": "execute_result"
    }
   ],
   "source": [
    "cpi_csv['Date'] = pd.to_datetime(cpi_csv['Date'], format='%Y-%m')\n",
    "cpi_csv['Year'] = cpi_csv['Date'].dt.year\n",
    "cpi_csv['Month'] = cpi_csv['Date'].dt.month\n",
    "\n",
    "cpi_csv.set_index('Date')\n",
    "cpi_csv"
   ]
  },
  {
   "cell_type": "code",
   "execution_count": 6,
   "metadata": {},
   "outputs": [
    {
     "data": {
      "text/html": [
       "<div>\n",
       "<style scoped>\n",
       "    .dataframe tbody tr th:only-of-type {\n",
       "        vertical-align: middle;\n",
       "    }\n",
       "\n",
       "    .dataframe tbody tr th {\n",
       "        vertical-align: top;\n",
       "    }\n",
       "\n",
       "    .dataframe thead th {\n",
       "        text-align: right;\n",
       "    }\n",
       "</style>\n",
       "<table border=\"1\" class=\"dataframe\">\n",
       "  <thead>\n",
       "    <tr style=\"text-align: right;\">\n",
       "      <th></th>\n",
       "      <th>Unnamed: 0</th>\n",
       "      <th>Date</th>\n",
       "      <th>Year</th>\n",
       "      <th>Month</th>\n",
       "      <th>Interest_rate</th>\n",
       "    </tr>\n",
       "  </thead>\n",
       "  <tbody>\n",
       "    <tr>\n",
       "      <th>0</th>\n",
       "      <td>0</td>\n",
       "      <td>2018-01-01</td>\n",
       "      <td>2018</td>\n",
       "      <td>1</td>\n",
       "      <td>4.5</td>\n",
       "    </tr>\n",
       "    <tr>\n",
       "      <th>1</th>\n",
       "      <td>1</td>\n",
       "      <td>2018-02-01</td>\n",
       "      <td>2018</td>\n",
       "      <td>2</td>\n",
       "      <td>4.5</td>\n",
       "    </tr>\n",
       "    <tr>\n",
       "      <th>2</th>\n",
       "      <td>2</td>\n",
       "      <td>2018-03-01</td>\n",
       "      <td>2018</td>\n",
       "      <td>3</td>\n",
       "      <td>4.5</td>\n",
       "    </tr>\n",
       "    <tr>\n",
       "      <th>3</th>\n",
       "      <td>3</td>\n",
       "      <td>2018-04-01</td>\n",
       "      <td>2018</td>\n",
       "      <td>4</td>\n",
       "      <td>4.5</td>\n",
       "    </tr>\n",
       "    <tr>\n",
       "      <th>4</th>\n",
       "      <td>4</td>\n",
       "      <td>2018-05-01</td>\n",
       "      <td>2018</td>\n",
       "      <td>5</td>\n",
       "      <td>4.5</td>\n",
       "    </tr>\n",
       "    <tr>\n",
       "      <th>...</th>\n",
       "      <td>...</td>\n",
       "      <td>...</td>\n",
       "      <td>...</td>\n",
       "      <td>...</td>\n",
       "      <td>...</td>\n",
       "    </tr>\n",
       "    <tr>\n",
       "      <th>78</th>\n",
       "      <td>78</td>\n",
       "      <td>2024-05-01</td>\n",
       "      <td>2024</td>\n",
       "      <td>5</td>\n",
       "      <td>6.0</td>\n",
       "    </tr>\n",
       "    <tr>\n",
       "      <th>79</th>\n",
       "      <td>79</td>\n",
       "      <td>2024-06-01</td>\n",
       "      <td>2024</td>\n",
       "      <td>6</td>\n",
       "      <td>6.0</td>\n",
       "    </tr>\n",
       "    <tr>\n",
       "      <th>80</th>\n",
       "      <td>80</td>\n",
       "      <td>2024-07-01</td>\n",
       "      <td>2024</td>\n",
       "      <td>7</td>\n",
       "      <td>6.0</td>\n",
       "    </tr>\n",
       "    <tr>\n",
       "      <th>81</th>\n",
       "      <td>81</td>\n",
       "      <td>2024-08-01</td>\n",
       "      <td>2024</td>\n",
       "      <td>8</td>\n",
       "      <td>6.0</td>\n",
       "    </tr>\n",
       "    <tr>\n",
       "      <th>82</th>\n",
       "      <td>82</td>\n",
       "      <td>2024-09-01</td>\n",
       "      <td>2024</td>\n",
       "      <td>9</td>\n",
       "      <td>6.0</td>\n",
       "    </tr>\n",
       "  </tbody>\n",
       "</table>\n",
       "<p>83 rows × 5 columns</p>\n",
       "</div>"
      ],
      "text/plain": [
       "    Unnamed: 0       Date  Year  Month  Interest_rate\n",
       "0            0 2018-01-01  2018      1            4.5\n",
       "1            1 2018-02-01  2018      2            4.5\n",
       "2            2 2018-03-01  2018      3            4.5\n",
       "3            3 2018-04-01  2018      4            4.5\n",
       "4            4 2018-05-01  2018      5            4.5\n",
       "..         ...        ...   ...    ...            ...\n",
       "78          78 2024-05-01  2024      5            6.0\n",
       "79          79 2024-06-01  2024      6            6.0\n",
       "80          80 2024-07-01  2024      7            6.0\n",
       "81          81 2024-08-01  2024      8            6.0\n",
       "82          82 2024-09-01  2024      9            6.0\n",
       "\n",
       "[83 rows x 5 columns]"
      ]
     },
     "execution_count": 6,
     "metadata": {},
     "output_type": "execute_result"
    }
   ],
   "source": [
    "interest_csv['Date'] = pd.to_datetime(interest_csv['Date'], format='%Y-%m')\n",
    "interest_csv.set_index('Date')\n",
    "interest_csv"
   ]
  },
  {
   "cell_type": "code",
   "execution_count": 7,
   "metadata": {},
   "outputs": [],
   "source": [
    "merged_data = pd.merge(cpi_csv, inflation_csv, how='inner', left_on=['Year', 'Month'], right_on=['Year', 'Month'])"
   ]
  },
  {
   "cell_type": "code",
   "execution_count": 8,
   "metadata": {},
   "outputs": [
    {
     "name": "stdout",
     "output_type": "stream",
     "text": [
      "Unnamed: 0_x                  0\n",
      "Date                          0\n",
      "Food_and_drinks               0\n",
      "Alcohol_and_tobacco           0\n",
      "Household_consumable_goods    0\n",
      "Medication                    0\n",
      "Stationery                    0\n",
      "Year_x                        0\n",
      "Month_x                       0\n",
      "Unnamed: 0_y                  0\n",
      "Rate                          0\n",
      "Unnamed: 0                    0\n",
      "Year_y                        0\n",
      "Month_y                       0\n",
      "Interest_rate                 0\n",
      "dtype: int64\n"
     ]
    }
   ],
   "source": [
    "merged_data = pd.merge(merged_data, interest_csv, how='inner', left_on=['Date'], right_on=['Date'])\n",
    "print(merged_data.isnull().sum())"
   ]
  },
  {
   "cell_type": "code",
   "execution_count": 9,
   "metadata": {},
   "outputs": [
    {
     "data": {
      "text/html": [
       "<div>\n",
       "<style scoped>\n",
       "    .dataframe tbody tr th:only-of-type {\n",
       "        vertical-align: middle;\n",
       "    }\n",
       "\n",
       "    .dataframe tbody tr th {\n",
       "        vertical-align: top;\n",
       "    }\n",
       "\n",
       "    .dataframe thead th {\n",
       "        text-align: right;\n",
       "    }\n",
       "</style>\n",
       "<table border=\"1\" class=\"dataframe\">\n",
       "  <thead>\n",
       "    <tr style=\"text-align: right;\">\n",
       "      <th></th>\n",
       "      <th>Unnamed: 0_x</th>\n",
       "      <th>Date</th>\n",
       "      <th>Food_and_drinks</th>\n",
       "      <th>Alcohol_and_tobacco</th>\n",
       "      <th>Household_consumable_goods</th>\n",
       "      <th>Medication</th>\n",
       "      <th>Stationery</th>\n",
       "      <th>Year_x</th>\n",
       "      <th>Month_x</th>\n",
       "      <th>Unnamed: 0_y</th>\n",
       "      <th>Rate</th>\n",
       "      <th>Unnamed: 0</th>\n",
       "      <th>Year_y</th>\n",
       "      <th>Month_y</th>\n",
       "      <th>Interest_rate</th>\n",
       "    </tr>\n",
       "  </thead>\n",
       "  <tbody>\n",
       "    <tr>\n",
       "      <th>0</th>\n",
       "      <td>12</td>\n",
       "      <td>2019-01-01</td>\n",
       "      <td>102.0</td>\n",
       "      <td>105.2</td>\n",
       "      <td>102.0</td>\n",
       "      <td>101.5</td>\n",
       "      <td>102.0</td>\n",
       "      <td>2019</td>\n",
       "      <td>1</td>\n",
       "      <td>0</td>\n",
       "      <td>4.4</td>\n",
       "      <td>14</td>\n",
       "      <td>2019</td>\n",
       "      <td>1</td>\n",
       "      <td>4.625000</td>\n",
       "    </tr>\n",
       "    <tr>\n",
       "      <th>1</th>\n",
       "      <td>13</td>\n",
       "      <td>2019-02-01</td>\n",
       "      <td>101.4</td>\n",
       "      <td>106.9</td>\n",
       "      <td>102.2</td>\n",
       "      <td>101.6</td>\n",
       "      <td>102.1</td>\n",
       "      <td>2019</td>\n",
       "      <td>2</td>\n",
       "      <td>6</td>\n",
       "      <td>3.8</td>\n",
       "      <td>15</td>\n",
       "      <td>2019</td>\n",
       "      <td>2</td>\n",
       "      <td>4.666667</td>\n",
       "    </tr>\n",
       "    <tr>\n",
       "      <th>2</th>\n",
       "      <td>14</td>\n",
       "      <td>2019-03-01</td>\n",
       "      <td>100.7</td>\n",
       "      <td>108.1</td>\n",
       "      <td>102.5</td>\n",
       "      <td>101.9</td>\n",
       "      <td>102.3</td>\n",
       "      <td>2019</td>\n",
       "      <td>3</td>\n",
       "      <td>12</td>\n",
       "      <td>3.4</td>\n",
       "      <td>16</td>\n",
       "      <td>2019</td>\n",
       "      <td>3</td>\n",
       "      <td>4.708333</td>\n",
       "    </tr>\n",
       "    <tr>\n",
       "      <th>3</th>\n",
       "      <td>15</td>\n",
       "      <td>2019-04-01</td>\n",
       "      <td>100.7</td>\n",
       "      <td>108.5</td>\n",
       "      <td>102.7</td>\n",
       "      <td>102.1</td>\n",
       "      <td>102.6</td>\n",
       "      <td>2019</td>\n",
       "      <td>4</td>\n",
       "      <td>18</td>\n",
       "      <td>3.2</td>\n",
       "      <td>17</td>\n",
       "      <td>2019</td>\n",
       "      <td>4</td>\n",
       "      <td>4.750000</td>\n",
       "    </tr>\n",
       "    <tr>\n",
       "      <th>4</th>\n",
       "      <td>16</td>\n",
       "      <td>2019-05-01</td>\n",
       "      <td>100.9</td>\n",
       "      <td>108.8</td>\n",
       "      <td>102.9</td>\n",
       "      <td>102.4</td>\n",
       "      <td>103.0</td>\n",
       "      <td>2019</td>\n",
       "      <td>5</td>\n",
       "      <td>24</td>\n",
       "      <td>3.2</td>\n",
       "      <td>18</td>\n",
       "      <td>2019</td>\n",
       "      <td>5</td>\n",
       "      <td>4.625000</td>\n",
       "    </tr>\n",
       "    <tr>\n",
       "      <th>...</th>\n",
       "      <td>...</td>\n",
       "      <td>...</td>\n",
       "      <td>...</td>\n",
       "      <td>...</td>\n",
       "      <td>...</td>\n",
       "      <td>...</td>\n",
       "      <td>...</td>\n",
       "      <td>...</td>\n",
       "      <td>...</td>\n",
       "      <td>...</td>\n",
       "      <td>...</td>\n",
       "      <td>...</td>\n",
       "      <td>...</td>\n",
       "      <td>...</td>\n",
       "      <td>...</td>\n",
       "    </tr>\n",
       "    <tr>\n",
       "      <th>64</th>\n",
       "      <td>76</td>\n",
       "      <td>2024-05-01</td>\n",
       "      <td>128.7</td>\n",
       "      <td>176.8</td>\n",
       "      <td>125.5</td>\n",
       "      <td>120.1</td>\n",
       "      <td>130.5</td>\n",
       "      <td>2024</td>\n",
       "      <td>5</td>\n",
       "      <td>29</td>\n",
       "      <td>3.9</td>\n",
       "      <td>78</td>\n",
       "      <td>2024</td>\n",
       "      <td>5</td>\n",
       "      <td>6.000000</td>\n",
       "    </tr>\n",
       "    <tr>\n",
       "      <th>65</th>\n",
       "      <td>77</td>\n",
       "      <td>2024-06-01</td>\n",
       "      <td>129.5</td>\n",
       "      <td>177.0</td>\n",
       "      <td>125.6</td>\n",
       "      <td>120.3</td>\n",
       "      <td>130.8</td>\n",
       "      <td>2024</td>\n",
       "      <td>6</td>\n",
       "      <td>35</td>\n",
       "      <td>3.7</td>\n",
       "      <td>79</td>\n",
       "      <td>2024</td>\n",
       "      <td>6</td>\n",
       "      <td>6.000000</td>\n",
       "    </tr>\n",
       "    <tr>\n",
       "      <th>66</th>\n",
       "      <td>78</td>\n",
       "      <td>2024-07-01</td>\n",
       "      <td>130.4</td>\n",
       "      <td>177.0</td>\n",
       "      <td>125.8</td>\n",
       "      <td>120.6</td>\n",
       "      <td>131.7</td>\n",
       "      <td>2024</td>\n",
       "      <td>7</td>\n",
       "      <td>41</td>\n",
       "      <td>4.4</td>\n",
       "      <td>80</td>\n",
       "      <td>2024</td>\n",
       "      <td>7</td>\n",
       "      <td>6.000000</td>\n",
       "    </tr>\n",
       "    <tr>\n",
       "      <th>67</th>\n",
       "      <td>79</td>\n",
       "      <td>2024-08-01</td>\n",
       "      <td>130.4</td>\n",
       "      <td>177.2</td>\n",
       "      <td>126.0</td>\n",
       "      <td>120.7</td>\n",
       "      <td>133.3</td>\n",
       "      <td>2024</td>\n",
       "      <td>8</td>\n",
       "      <td>47</td>\n",
       "      <td>3.3</td>\n",
       "      <td>81</td>\n",
       "      <td>2024</td>\n",
       "      <td>8</td>\n",
       "      <td>6.000000</td>\n",
       "    </tr>\n",
       "    <tr>\n",
       "      <th>68</th>\n",
       "      <td>80</td>\n",
       "      <td>2024-09-01</td>\n",
       "      <td>129.8</td>\n",
       "      <td>177.5</td>\n",
       "      <td>126.2</td>\n",
       "      <td>121.0</td>\n",
       "      <td>133.7</td>\n",
       "      <td>2024</td>\n",
       "      <td>9</td>\n",
       "      <td>53</td>\n",
       "      <td>1.9</td>\n",
       "      <td>82</td>\n",
       "      <td>2024</td>\n",
       "      <td>9</td>\n",
       "      <td>6.000000</td>\n",
       "    </tr>\n",
       "  </tbody>\n",
       "</table>\n",
       "<p>69 rows × 15 columns</p>\n",
       "</div>"
      ],
      "text/plain": [
       "    Unnamed: 0_x       Date  Food_and_drinks  Alcohol_and_tobacco  \\\n",
       "0             12 2019-01-01            102.0                105.2   \n",
       "1             13 2019-02-01            101.4                106.9   \n",
       "2             14 2019-03-01            100.7                108.1   \n",
       "3             15 2019-04-01            100.7                108.5   \n",
       "4             16 2019-05-01            100.9                108.8   \n",
       "..           ...        ...              ...                  ...   \n",
       "64            76 2024-05-01            128.7                176.8   \n",
       "65            77 2024-06-01            129.5                177.0   \n",
       "66            78 2024-07-01            130.4                177.0   \n",
       "67            79 2024-08-01            130.4                177.2   \n",
       "68            80 2024-09-01            129.8                177.5   \n",
       "\n",
       "    Household_consumable_goods  Medication  Stationery  Year_x  Month_x  \\\n",
       "0                        102.0       101.5       102.0    2019        1   \n",
       "1                        102.2       101.6       102.1    2019        2   \n",
       "2                        102.5       101.9       102.3    2019        3   \n",
       "3                        102.7       102.1       102.6    2019        4   \n",
       "4                        102.9       102.4       103.0    2019        5   \n",
       "..                         ...         ...         ...     ...      ...   \n",
       "64                       125.5       120.1       130.5    2024        5   \n",
       "65                       125.6       120.3       130.8    2024        6   \n",
       "66                       125.8       120.6       131.7    2024        7   \n",
       "67                       126.0       120.7       133.3    2024        8   \n",
       "68                       126.2       121.0       133.7    2024        9   \n",
       "\n",
       "    Unnamed: 0_y  Rate  Unnamed: 0  Year_y  Month_y  Interest_rate  \n",
       "0              0   4.4          14    2019        1       4.625000  \n",
       "1              6   3.8          15    2019        2       4.666667  \n",
       "2             12   3.4          16    2019        3       4.708333  \n",
       "3             18   3.2          17    2019        4       4.750000  \n",
       "4             24   3.2          18    2019        5       4.625000  \n",
       "..           ...   ...         ...     ...      ...            ...  \n",
       "64            29   3.9          78    2024        5       6.000000  \n",
       "65            35   3.7          79    2024        6       6.000000  \n",
       "66            41   4.4          80    2024        7       6.000000  \n",
       "67            47   3.3          81    2024        8       6.000000  \n",
       "68            53   1.9          82    2024        9       6.000000  \n",
       "\n",
       "[69 rows x 15 columns]"
      ]
     },
     "execution_count": 9,
     "metadata": {},
     "output_type": "execute_result"
    }
   ],
   "source": [
    "merged_data"
   ]
  },
  {
   "cell_type": "code",
   "execution_count": 10,
   "metadata": {},
   "outputs": [
    {
     "data": {
      "text/html": [
       "<div>\n",
       "<style scoped>\n",
       "    .dataframe tbody tr th:only-of-type {\n",
       "        vertical-align: middle;\n",
       "    }\n",
       "\n",
       "    .dataframe tbody tr th {\n",
       "        vertical-align: top;\n",
       "    }\n",
       "\n",
       "    .dataframe thead th {\n",
       "        text-align: right;\n",
       "    }\n",
       "</style>\n",
       "<table border=\"1\" class=\"dataframe\">\n",
       "  <thead>\n",
       "    <tr style=\"text-align: right;\">\n",
       "      <th></th>\n",
       "      <th>Date</th>\n",
       "      <th>Food_and_drinks</th>\n",
       "      <th>Alcohol_and_tobacco</th>\n",
       "      <th>Household_consumable_goods</th>\n",
       "      <th>Medication</th>\n",
       "      <th>Stationery</th>\n",
       "      <th>Rate</th>\n",
       "      <th>Interest_rate</th>\n",
       "    </tr>\n",
       "  </thead>\n",
       "  <tbody>\n",
       "    <tr>\n",
       "      <th>0</th>\n",
       "      <td>2019-01-01</td>\n",
       "      <td>102.0</td>\n",
       "      <td>105.2</td>\n",
       "      <td>102.0</td>\n",
       "      <td>101.5</td>\n",
       "      <td>102.0</td>\n",
       "      <td>4.4</td>\n",
       "      <td>4.625000</td>\n",
       "    </tr>\n",
       "    <tr>\n",
       "      <th>1</th>\n",
       "      <td>2019-02-01</td>\n",
       "      <td>101.4</td>\n",
       "      <td>106.9</td>\n",
       "      <td>102.2</td>\n",
       "      <td>101.6</td>\n",
       "      <td>102.1</td>\n",
       "      <td>3.8</td>\n",
       "      <td>4.666667</td>\n",
       "    </tr>\n",
       "    <tr>\n",
       "      <th>2</th>\n",
       "      <td>2019-03-01</td>\n",
       "      <td>100.7</td>\n",
       "      <td>108.1</td>\n",
       "      <td>102.5</td>\n",
       "      <td>101.9</td>\n",
       "      <td>102.3</td>\n",
       "      <td>3.4</td>\n",
       "      <td>4.708333</td>\n",
       "    </tr>\n",
       "    <tr>\n",
       "      <th>3</th>\n",
       "      <td>2019-04-01</td>\n",
       "      <td>100.7</td>\n",
       "      <td>108.5</td>\n",
       "      <td>102.7</td>\n",
       "      <td>102.1</td>\n",
       "      <td>102.6</td>\n",
       "      <td>3.2</td>\n",
       "      <td>4.750000</td>\n",
       "    </tr>\n",
       "    <tr>\n",
       "      <th>4</th>\n",
       "      <td>2019-05-01</td>\n",
       "      <td>100.9</td>\n",
       "      <td>108.8</td>\n",
       "      <td>102.9</td>\n",
       "      <td>102.4</td>\n",
       "      <td>103.0</td>\n",
       "      <td>3.2</td>\n",
       "      <td>4.625000</td>\n",
       "    </tr>\n",
       "    <tr>\n",
       "      <th>...</th>\n",
       "      <td>...</td>\n",
       "      <td>...</td>\n",
       "      <td>...</td>\n",
       "      <td>...</td>\n",
       "      <td>...</td>\n",
       "      <td>...</td>\n",
       "      <td>...</td>\n",
       "      <td>...</td>\n",
       "    </tr>\n",
       "    <tr>\n",
       "      <th>64</th>\n",
       "      <td>2024-05-01</td>\n",
       "      <td>128.7</td>\n",
       "      <td>176.8</td>\n",
       "      <td>125.5</td>\n",
       "      <td>120.1</td>\n",
       "      <td>130.5</td>\n",
       "      <td>3.9</td>\n",
       "      <td>6.000000</td>\n",
       "    </tr>\n",
       "    <tr>\n",
       "      <th>65</th>\n",
       "      <td>2024-06-01</td>\n",
       "      <td>129.5</td>\n",
       "      <td>177.0</td>\n",
       "      <td>125.6</td>\n",
       "      <td>120.3</td>\n",
       "      <td>130.8</td>\n",
       "      <td>3.7</td>\n",
       "      <td>6.000000</td>\n",
       "    </tr>\n",
       "    <tr>\n",
       "      <th>66</th>\n",
       "      <td>2024-07-01</td>\n",
       "      <td>130.4</td>\n",
       "      <td>177.0</td>\n",
       "      <td>125.8</td>\n",
       "      <td>120.6</td>\n",
       "      <td>131.7</td>\n",
       "      <td>4.4</td>\n",
       "      <td>6.000000</td>\n",
       "    </tr>\n",
       "    <tr>\n",
       "      <th>67</th>\n",
       "      <td>2024-08-01</td>\n",
       "      <td>130.4</td>\n",
       "      <td>177.2</td>\n",
       "      <td>126.0</td>\n",
       "      <td>120.7</td>\n",
       "      <td>133.3</td>\n",
       "      <td>3.3</td>\n",
       "      <td>6.000000</td>\n",
       "    </tr>\n",
       "    <tr>\n",
       "      <th>68</th>\n",
       "      <td>2024-09-01</td>\n",
       "      <td>129.8</td>\n",
       "      <td>177.5</td>\n",
       "      <td>126.2</td>\n",
       "      <td>121.0</td>\n",
       "      <td>133.7</td>\n",
       "      <td>1.9</td>\n",
       "      <td>6.000000</td>\n",
       "    </tr>\n",
       "  </tbody>\n",
       "</table>\n",
       "<p>69 rows × 8 columns</p>\n",
       "</div>"
      ],
      "text/plain": [
       "         Date  Food_and_drinks  Alcohol_and_tobacco  \\\n",
       "0  2019-01-01            102.0                105.2   \n",
       "1  2019-02-01            101.4                106.9   \n",
       "2  2019-03-01            100.7                108.1   \n",
       "3  2019-04-01            100.7                108.5   \n",
       "4  2019-05-01            100.9                108.8   \n",
       "..        ...              ...                  ...   \n",
       "64 2024-05-01            128.7                176.8   \n",
       "65 2024-06-01            129.5                177.0   \n",
       "66 2024-07-01            130.4                177.0   \n",
       "67 2024-08-01            130.4                177.2   \n",
       "68 2024-09-01            129.8                177.5   \n",
       "\n",
       "    Household_consumable_goods  Medication  Stationery  Rate  Interest_rate  \n",
       "0                        102.0       101.5       102.0   4.4       4.625000  \n",
       "1                        102.2       101.6       102.1   3.8       4.666667  \n",
       "2                        102.5       101.9       102.3   3.4       4.708333  \n",
       "3                        102.7       102.1       102.6   3.2       4.750000  \n",
       "4                        102.9       102.4       103.0   3.2       4.625000  \n",
       "..                         ...         ...         ...   ...            ...  \n",
       "64                       125.5       120.1       130.5   3.9       6.000000  \n",
       "65                       125.6       120.3       130.8   3.7       6.000000  \n",
       "66                       125.8       120.6       131.7   4.4       6.000000  \n",
       "67                       126.0       120.7       133.3   3.3       6.000000  \n",
       "68                       126.2       121.0       133.7   1.9       6.000000  \n",
       "\n",
       "[69 rows x 8 columns]"
      ]
     },
     "execution_count": 10,
     "metadata": {},
     "output_type": "execute_result"
    }
   ],
   "source": [
    "merged_data = merged_data.loc[:, ~merged_data.columns.str.contains('^Unnamed')]\n",
    "merged_data = merged_data.loc[:, ~merged_data.columns.str.contains('^Year')]\n",
    "merged_data = merged_data.loc[:, ~merged_data.columns.str.contains('^Month')]\n",
    "merged_data"
   ]
  },
  {
   "cell_type": "code",
   "execution_count": 11,
   "metadata": {},
   "outputs": [],
   "source": [
    "merged_data.to_csv(\"final_merged_dataset.csv\")"
   ]
  },
  {
   "cell_type": "markdown",
   "metadata": {},
   "source": [
    "## Experimentation with feature selection"
   ]
  },
  {
   "cell_type": "code",
   "execution_count": 12,
   "metadata": {},
   "outputs": [],
   "source": [
    "merged_data.set_index(merged_data['Date'])\n",
    "split_date = datetime.datetime(2024,1,1)\n",
    "train_data = merged_data[merged_data['Date'] <= split_date]\n",
    "test_data = merged_data[merged_data['Date'] >= split_date]"
   ]
  },
  {
   "cell_type": "markdown",
   "metadata": {},
   "source": [
    "### All feature Set"
   ]
  },
  {
   "cell_type": "code",
   "execution_count": 49,
   "metadata": {},
   "outputs": [
    {
     "name": "stdout",
     "output_type": "stream",
     "text": [
      "61    174.982612\n",
      "62    175.685980\n",
      "63    176.070158\n",
      "64    176.115100\n",
      "65    176.200785\n",
      "66    176.327227\n",
      "67    176.414416\n",
      "68    176.822390\n",
      "69    177.111091\n",
      "70    177.760573\n",
      "71    178.030830\n",
      "72    178.721875\n",
      "73    179.004487\n",
      "74    179.707854\n",
      "75    180.092033\n",
      "76    180.136974\n",
      "77    180.222660\n",
      "78    180.349102\n",
      "79    180.436291\n",
      "80    180.844265\n",
      "dtype: float64\n"
     ]
    },
    {
     "data": {
      "text/plain": [
       "0     105.200000\n",
       "1     106.900000\n",
       "2     108.100000\n",
       "3     108.500000\n",
       "4     108.800000\n",
       "         ...    \n",
       "76    180.136974\n",
       "77    180.222660\n",
       "78    180.349102\n",
       "79    180.436291\n",
       "80    180.844265\n",
       "Length: 81, dtype: float64"
      ]
     },
     "execution_count": 49,
     "metadata": {},
     "output_type": "execute_result"
    }
   ],
   "source": [
    "model = ExponentialSmoothing(train_data['Alcohol_and_tobacco'], trend='additive', seasonal='additive', seasonal_periods=12)\n",
    "fitted_model = model.fit()\n",
    "forecast_horizon = 20\n",
    "forecast = fitted_model.forecast(forecast_horizon)\n",
    "print(forecast)\n",
    "\n",
    "forecast_df = train_data.copy()\n",
    "forecast_df = pd.concat([forecast_df[\"Alcohol_and_tobacco\"], pd.Series(forecast)])\n",
    "forecast_df"
   ]
  },
  {
   "cell_type": "code",
   "execution_count": 50,
   "metadata": {},
   "outputs": [
    {
     "data": {
      "application/vnd.plotly.v1+json": {
       "config": {
        "plotlyServerURL": "https://plot.ly"
       },
       "data": [
        {
         "name": "Training Data",
         "type": "scatter",
         "x": [
          0,
          1,
          2,
          3,
          4,
          5,
          6,
          7,
          8,
          9,
          10,
          11,
          12,
          13,
          14,
          15,
          16,
          17,
          18,
          19,
          20,
          21,
          22,
          23,
          24,
          25,
          26,
          27,
          28,
          29,
          30,
          31,
          32,
          33,
          34,
          35,
          36,
          37,
          38,
          39,
          40,
          41,
          42,
          43,
          44,
          45,
          46,
          47,
          48,
          49,
          50,
          51,
          52,
          53,
          54,
          55,
          56,
          57,
          58,
          59,
          60
         ],
         "y": [
          105.2,
          106.9,
          108.1,
          108.5,
          108.8,
          109.3,
          109.9,
          111.6,
          115.9,
          118,
          119.8,
          121.4,
          123.6,
          124.8,
          126.2,
          126.7,
          127.3,
          128.4,
          130.1,
          130.4,
          130.4,
          131.6,
          134.5,
          135.9,
          137.6,
          139.4,
          140.4,
          140.9,
          141.4,
          141.8,
          142.2,
          142.6,
          142.8,
          143.1,
          143.8,
          144.3,
          145.3,
          145.9,
          147.2,
          149.2,
          151,
          152.8,
          154.3,
          155.9,
          156.8,
          158,
          159,
          159.7,
          161.2,
          162,
          165.2,
          168.2,
          169.6,
          170.5,
          171.1,
          171.6,
          172.2,
          172.7,
          173.3,
          174.1,
          174.7
         ]
        },
        {
         "name": "Testing Data",
         "type": "scatter",
         "x": [
          60,
          61,
          62,
          63,
          64,
          65,
          66,
          67,
          68
         ],
         "y": [
          174.7,
          175.9,
          176.3,
          176.5,
          176.8,
          177,
          177,
          177.2,
          177.5
         ]
        },
        {
         "name": "Forecast",
         "type": "scatter",
         "x": [
          0,
          1,
          2,
          3,
          4,
          5,
          6,
          7,
          8,
          9,
          10,
          11,
          12,
          13,
          14,
          15,
          16,
          17,
          18,
          19,
          20,
          21,
          22,
          23,
          24,
          25,
          26,
          27,
          28,
          29,
          30,
          31,
          32,
          33,
          34,
          35,
          36,
          37,
          38,
          39,
          40,
          41,
          42,
          43,
          44,
          45,
          46,
          47,
          48,
          49,
          50,
          51,
          52,
          53,
          54,
          55,
          56,
          57,
          58,
          59,
          60,
          61,
          62,
          63,
          64,
          65,
          66,
          67,
          68,
          69,
          70,
          71,
          72,
          73,
          74,
          75,
          76,
          77,
          78,
          79,
          80
         ],
         "y": [
          105.2,
          106.9,
          108.1,
          108.5,
          108.8,
          109.3,
          109.9,
          111.6,
          115.9,
          118,
          119.8,
          121.4,
          123.6,
          124.8,
          126.2,
          126.7,
          127.3,
          128.4,
          130.1,
          130.4,
          130.4,
          131.6,
          134.5,
          135.9,
          137.6,
          139.4,
          140.4,
          140.9,
          141.4,
          141.8,
          142.2,
          142.6,
          142.8,
          143.1,
          143.8,
          144.3,
          145.3,
          145.9,
          147.2,
          149.2,
          151,
          152.8,
          154.3,
          155.9,
          156.8,
          158,
          159,
          159.7,
          161.2,
          162,
          165.2,
          168.2,
          169.6,
          170.5,
          171.1,
          171.6,
          172.2,
          172.7,
          173.3,
          174.1,
          174.7,
          174.9826120485847,
          175.68597972459472,
          176.07015807967747,
          176.11509967006708,
          176.20078541380957,
          176.327227072422,
          176.4144159246665,
          176.82239024150542,
          177.1110909032643,
          177.7605727811313,
          178.03083021727733,
          178.72187463135157,
          179.00448667205384,
          179.70785434806382,
          180.09203270314657,
          180.1369742935362,
          180.22266003727867,
          180.34910169589114,
          180.43629054813562,
          180.84426486497452
         ]
        }
       ],
       "layout": {
        "legend": {
         "x": 0.99,
         "xanchor": "right",
         "y": 0.99,
         "yanchor": "top"
        },
        "template": {
         "data": {
          "bar": [
           {
            "error_x": {
             "color": "#2a3f5f"
            },
            "error_y": {
             "color": "#2a3f5f"
            },
            "marker": {
             "line": {
              "color": "#E5ECF6",
              "width": 0.5
             },
             "pattern": {
              "fillmode": "overlay",
              "size": 10,
              "solidity": 0.2
             }
            },
            "type": "bar"
           }
          ],
          "barpolar": [
           {
            "marker": {
             "line": {
              "color": "#E5ECF6",
              "width": 0.5
             },
             "pattern": {
              "fillmode": "overlay",
              "size": 10,
              "solidity": 0.2
             }
            },
            "type": "barpolar"
           }
          ],
          "carpet": [
           {
            "aaxis": {
             "endlinecolor": "#2a3f5f",
             "gridcolor": "white",
             "linecolor": "white",
             "minorgridcolor": "white",
             "startlinecolor": "#2a3f5f"
            },
            "baxis": {
             "endlinecolor": "#2a3f5f",
             "gridcolor": "white",
             "linecolor": "white",
             "minorgridcolor": "white",
             "startlinecolor": "#2a3f5f"
            },
            "type": "carpet"
           }
          ],
          "choropleth": [
           {
            "colorbar": {
             "outlinewidth": 0,
             "ticks": ""
            },
            "type": "choropleth"
           }
          ],
          "contour": [
           {
            "colorbar": {
             "outlinewidth": 0,
             "ticks": ""
            },
            "colorscale": [
             [
              0,
              "#0d0887"
             ],
             [
              0.1111111111111111,
              "#46039f"
             ],
             [
              0.2222222222222222,
              "#7201a8"
             ],
             [
              0.3333333333333333,
              "#9c179e"
             ],
             [
              0.4444444444444444,
              "#bd3786"
             ],
             [
              0.5555555555555556,
              "#d8576b"
             ],
             [
              0.6666666666666666,
              "#ed7953"
             ],
             [
              0.7777777777777778,
              "#fb9f3a"
             ],
             [
              0.8888888888888888,
              "#fdca26"
             ],
             [
              1,
              "#f0f921"
             ]
            ],
            "type": "contour"
           }
          ],
          "contourcarpet": [
           {
            "colorbar": {
             "outlinewidth": 0,
             "ticks": ""
            },
            "type": "contourcarpet"
           }
          ],
          "heatmap": [
           {
            "colorbar": {
             "outlinewidth": 0,
             "ticks": ""
            },
            "colorscale": [
             [
              0,
              "#0d0887"
             ],
             [
              0.1111111111111111,
              "#46039f"
             ],
             [
              0.2222222222222222,
              "#7201a8"
             ],
             [
              0.3333333333333333,
              "#9c179e"
             ],
             [
              0.4444444444444444,
              "#bd3786"
             ],
             [
              0.5555555555555556,
              "#d8576b"
             ],
             [
              0.6666666666666666,
              "#ed7953"
             ],
             [
              0.7777777777777778,
              "#fb9f3a"
             ],
             [
              0.8888888888888888,
              "#fdca26"
             ],
             [
              1,
              "#f0f921"
             ]
            ],
            "type": "heatmap"
           }
          ],
          "heatmapgl": [
           {
            "colorbar": {
             "outlinewidth": 0,
             "ticks": ""
            },
            "colorscale": [
             [
              0,
              "#0d0887"
             ],
             [
              0.1111111111111111,
              "#46039f"
             ],
             [
              0.2222222222222222,
              "#7201a8"
             ],
             [
              0.3333333333333333,
              "#9c179e"
             ],
             [
              0.4444444444444444,
              "#bd3786"
             ],
             [
              0.5555555555555556,
              "#d8576b"
             ],
             [
              0.6666666666666666,
              "#ed7953"
             ],
             [
              0.7777777777777778,
              "#fb9f3a"
             ],
             [
              0.8888888888888888,
              "#fdca26"
             ],
             [
              1,
              "#f0f921"
             ]
            ],
            "type": "heatmapgl"
           }
          ],
          "histogram": [
           {
            "marker": {
             "pattern": {
              "fillmode": "overlay",
              "size": 10,
              "solidity": 0.2
             }
            },
            "type": "histogram"
           }
          ],
          "histogram2d": [
           {
            "colorbar": {
             "outlinewidth": 0,
             "ticks": ""
            },
            "colorscale": [
             [
              0,
              "#0d0887"
             ],
             [
              0.1111111111111111,
              "#46039f"
             ],
             [
              0.2222222222222222,
              "#7201a8"
             ],
             [
              0.3333333333333333,
              "#9c179e"
             ],
             [
              0.4444444444444444,
              "#bd3786"
             ],
             [
              0.5555555555555556,
              "#d8576b"
             ],
             [
              0.6666666666666666,
              "#ed7953"
             ],
             [
              0.7777777777777778,
              "#fb9f3a"
             ],
             [
              0.8888888888888888,
              "#fdca26"
             ],
             [
              1,
              "#f0f921"
             ]
            ],
            "type": "histogram2d"
           }
          ],
          "histogram2dcontour": [
           {
            "colorbar": {
             "outlinewidth": 0,
             "ticks": ""
            },
            "colorscale": [
             [
              0,
              "#0d0887"
             ],
             [
              0.1111111111111111,
              "#46039f"
             ],
             [
              0.2222222222222222,
              "#7201a8"
             ],
             [
              0.3333333333333333,
              "#9c179e"
             ],
             [
              0.4444444444444444,
              "#bd3786"
             ],
             [
              0.5555555555555556,
              "#d8576b"
             ],
             [
              0.6666666666666666,
              "#ed7953"
             ],
             [
              0.7777777777777778,
              "#fb9f3a"
             ],
             [
              0.8888888888888888,
              "#fdca26"
             ],
             [
              1,
              "#f0f921"
             ]
            ],
            "type": "histogram2dcontour"
           }
          ],
          "mesh3d": [
           {
            "colorbar": {
             "outlinewidth": 0,
             "ticks": ""
            },
            "type": "mesh3d"
           }
          ],
          "parcoords": [
           {
            "line": {
             "colorbar": {
              "outlinewidth": 0,
              "ticks": ""
             }
            },
            "type": "parcoords"
           }
          ],
          "pie": [
           {
            "automargin": true,
            "type": "pie"
           }
          ],
          "scatter": [
           {
            "fillpattern": {
             "fillmode": "overlay",
             "size": 10,
             "solidity": 0.2
            },
            "type": "scatter"
           }
          ],
          "scatter3d": [
           {
            "line": {
             "colorbar": {
              "outlinewidth": 0,
              "ticks": ""
             }
            },
            "marker": {
             "colorbar": {
              "outlinewidth": 0,
              "ticks": ""
             }
            },
            "type": "scatter3d"
           }
          ],
          "scattercarpet": [
           {
            "marker": {
             "colorbar": {
              "outlinewidth": 0,
              "ticks": ""
             }
            },
            "type": "scattercarpet"
           }
          ],
          "scattergeo": [
           {
            "marker": {
             "colorbar": {
              "outlinewidth": 0,
              "ticks": ""
             }
            },
            "type": "scattergeo"
           }
          ],
          "scattergl": [
           {
            "marker": {
             "colorbar": {
              "outlinewidth": 0,
              "ticks": ""
             }
            },
            "type": "scattergl"
           }
          ],
          "scattermapbox": [
           {
            "marker": {
             "colorbar": {
              "outlinewidth": 0,
              "ticks": ""
             }
            },
            "type": "scattermapbox"
           }
          ],
          "scatterpolar": [
           {
            "marker": {
             "colorbar": {
              "outlinewidth": 0,
              "ticks": ""
             }
            },
            "type": "scatterpolar"
           }
          ],
          "scatterpolargl": [
           {
            "marker": {
             "colorbar": {
              "outlinewidth": 0,
              "ticks": ""
             }
            },
            "type": "scatterpolargl"
           }
          ],
          "scatterternary": [
           {
            "marker": {
             "colorbar": {
              "outlinewidth": 0,
              "ticks": ""
             }
            },
            "type": "scatterternary"
           }
          ],
          "surface": [
           {
            "colorbar": {
             "outlinewidth": 0,
             "ticks": ""
            },
            "colorscale": [
             [
              0,
              "#0d0887"
             ],
             [
              0.1111111111111111,
              "#46039f"
             ],
             [
              0.2222222222222222,
              "#7201a8"
             ],
             [
              0.3333333333333333,
              "#9c179e"
             ],
             [
              0.4444444444444444,
              "#bd3786"
             ],
             [
              0.5555555555555556,
              "#d8576b"
             ],
             [
              0.6666666666666666,
              "#ed7953"
             ],
             [
              0.7777777777777778,
              "#fb9f3a"
             ],
             [
              0.8888888888888888,
              "#fdca26"
             ],
             [
              1,
              "#f0f921"
             ]
            ],
            "type": "surface"
           }
          ],
          "table": [
           {
            "cells": {
             "fill": {
              "color": "#EBF0F8"
             },
             "line": {
              "color": "white"
             }
            },
            "header": {
             "fill": {
              "color": "#C8D4E3"
             },
             "line": {
              "color": "white"
             }
            },
            "type": "table"
           }
          ]
         },
         "layout": {
          "annotationdefaults": {
           "arrowcolor": "#2a3f5f",
           "arrowhead": 0,
           "arrowwidth": 1
          },
          "autotypenumbers": "strict",
          "coloraxis": {
           "colorbar": {
            "outlinewidth": 0,
            "ticks": ""
           }
          },
          "colorscale": {
           "diverging": [
            [
             0,
             "#8e0152"
            ],
            [
             0.1,
             "#c51b7d"
            ],
            [
             0.2,
             "#de77ae"
            ],
            [
             0.3,
             "#f1b6da"
            ],
            [
             0.4,
             "#fde0ef"
            ],
            [
             0.5,
             "#f7f7f7"
            ],
            [
             0.6,
             "#e6f5d0"
            ],
            [
             0.7,
             "#b8e186"
            ],
            [
             0.8,
             "#7fbc41"
            ],
            [
             0.9,
             "#4d9221"
            ],
            [
             1,
             "#276419"
            ]
           ],
           "sequential": [
            [
             0,
             "#0d0887"
            ],
            [
             0.1111111111111111,
             "#46039f"
            ],
            [
             0.2222222222222222,
             "#7201a8"
            ],
            [
             0.3333333333333333,
             "#9c179e"
            ],
            [
             0.4444444444444444,
             "#bd3786"
            ],
            [
             0.5555555555555556,
             "#d8576b"
            ],
            [
             0.6666666666666666,
             "#ed7953"
            ],
            [
             0.7777777777777778,
             "#fb9f3a"
            ],
            [
             0.8888888888888888,
             "#fdca26"
            ],
            [
             1,
             "#f0f921"
            ]
           ],
           "sequentialminus": [
            [
             0,
             "#0d0887"
            ],
            [
             0.1111111111111111,
             "#46039f"
            ],
            [
             0.2222222222222222,
             "#7201a8"
            ],
            [
             0.3333333333333333,
             "#9c179e"
            ],
            [
             0.4444444444444444,
             "#bd3786"
            ],
            [
             0.5555555555555556,
             "#d8576b"
            ],
            [
             0.6666666666666666,
             "#ed7953"
            ],
            [
             0.7777777777777778,
             "#fb9f3a"
            ],
            [
             0.8888888888888888,
             "#fdca26"
            ],
            [
             1,
             "#f0f921"
            ]
           ]
          },
          "colorway": [
           "#636efa",
           "#EF553B",
           "#00cc96",
           "#ab63fa",
           "#FFA15A",
           "#19d3f3",
           "#FF6692",
           "#B6E880",
           "#FF97FF",
           "#FECB52"
          ],
          "font": {
           "color": "#2a3f5f"
          },
          "geo": {
           "bgcolor": "white",
           "lakecolor": "white",
           "landcolor": "#E5ECF6",
           "showlakes": true,
           "showland": true,
           "subunitcolor": "white"
          },
          "hoverlabel": {
           "align": "left"
          },
          "hovermode": "closest",
          "mapbox": {
           "style": "light"
          },
          "paper_bgcolor": "white",
          "plot_bgcolor": "#E5ECF6",
          "polar": {
           "angularaxis": {
            "gridcolor": "white",
            "linecolor": "white",
            "ticks": ""
           },
           "bgcolor": "#E5ECF6",
           "radialaxis": {
            "gridcolor": "white",
            "linecolor": "white",
            "ticks": ""
           }
          },
          "scene": {
           "xaxis": {
            "backgroundcolor": "#E5ECF6",
            "gridcolor": "white",
            "gridwidth": 2,
            "linecolor": "white",
            "showbackground": true,
            "ticks": "",
            "zerolinecolor": "white"
           },
           "yaxis": {
            "backgroundcolor": "#E5ECF6",
            "gridcolor": "white",
            "gridwidth": 2,
            "linecolor": "white",
            "showbackground": true,
            "ticks": "",
            "zerolinecolor": "white"
           },
           "zaxis": {
            "backgroundcolor": "#E5ECF6",
            "gridcolor": "white",
            "gridwidth": 2,
            "linecolor": "white",
            "showbackground": true,
            "ticks": "",
            "zerolinecolor": "white"
           }
          },
          "shapedefaults": {
           "line": {
            "color": "#2a3f5f"
           }
          },
          "ternary": {
           "aaxis": {
            "gridcolor": "white",
            "linecolor": "white",
            "ticks": ""
           },
           "baxis": {
            "gridcolor": "white",
            "linecolor": "white",
            "ticks": ""
           },
           "bgcolor": "#E5ECF6",
           "caxis": {
            "gridcolor": "white",
            "linecolor": "white",
            "ticks": ""
           }
          },
          "title": {
           "x": 0.05
          },
          "xaxis": {
           "automargin": true,
           "gridcolor": "white",
           "linecolor": "white",
           "ticks": "",
           "title": {
            "standoff": 15
           },
           "zerolinecolor": "white",
           "zerolinewidth": 2
          },
          "yaxis": {
           "automargin": true,
           "gridcolor": "white",
           "linecolor": "white",
           "ticks": "",
           "title": {
            "standoff": 15
           },
           "zerolinecolor": "white",
           "zerolinewidth": 2
          }
         }
        },
        "title": {
         "text": "Extrapolation Smoothing Forecast"
        },
        "xaxis": {
         "title": {
          "text": "Date"
         }
        },
        "yaxis": {
         "title": {
          "text": "Value"
         }
        }
       }
      }
     },
     "metadata": {},
     "output_type": "display_data"
    }
   ],
   "source": [
    "fig = go.Figure()\n",
    "\n",
    "# Add traces for training data, testing data, and forecast\n",
    "fig.add_trace(go.Scatter(x=train_data.index, y=train_data['Alcohol_and_tobacco'], name='Training Data'))\n",
    "fig.add_trace(go.Scatter(x=test_data.index, y=test_data['Alcohol_and_tobacco'], name='Testing Data'))\n",
    "fig.add_trace(go.Scatter(x=forecast_df.index, y=forecast_df, name='Forecast'))\n",
    "\n",
    "# Customize the plot\n",
    "fig.update_layout(\n",
    "    title='Extrapolation Smoothing Forecast',\n",
    "    xaxis_title='Date',\n",
    "    yaxis_title='Value',\n",
    "    legend=dict(yanchor=\"top\", y=0.99, xanchor=\"right\", x=0.99)\n",
    ")\n",
    "\n",
    "# Show the plot\n",
    "fig.show()"
   ]
  }
 ],
 "metadata": {
  "kernelspec": {
   "display_name": "venv",
   "language": "python",
   "name": "python3"
  },
  "language_info": {
   "codemirror_mode": {
    "name": "ipython",
    "version": 3
   },
   "file_extension": ".py",
   "mimetype": "text/x-python",
   "name": "python",
   "nbconvert_exporter": "python",
   "pygments_lexer": "ipython3",
   "version": "3.12.7"
  }
 },
 "nbformat": 4,
 "nbformat_minor": 2
}

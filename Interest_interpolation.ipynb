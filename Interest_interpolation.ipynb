{
 "cells": [
  {
   "cell_type": "code",
   "execution_count": 1,
   "metadata": {},
   "outputs": [],
   "source": [
    "import pandas as pd\n",
    "from scipy.interpolate import interp1d"
   ]
  },
  {
   "cell_type": "code",
   "execution_count": 2,
   "metadata": {},
   "outputs": [],
   "source": [
    "RAW_DATASET_DIR = 'Raw datasets/'\n",
    "PROCESSED_OUTPUT_DIR = 'Processed Datasets/'"
   ]
  },
  {
   "cell_type": "code",
   "execution_count": 3,
   "metadata": {},
   "outputs": [
    {
     "name": "stdout",
     "output_type": "stream",
     "text": [
      "   Unnamed: 0  Year Month  Interest_rate       Date\n",
      "0           0  2018    10           4.50 2018-10-01\n",
      "1           1  2019    04           4.75 2019-04-01\n",
      "2           2  2019    08           4.25 2019-08-01\n",
      "3           3  2020    01           4.00 2020-01-01\n",
      "4           4  2020    04           2.75 2020-04-01\n",
      "5           5  2021    01           2.00 2021-01-01\n",
      "6           6  2022    04           2.00 2022-04-01\n",
      "7           7  2022    07           3.25 2022-07-01\n",
      "8           8  2023    02           6.00 2023-02-01\n",
      "9           9  2024    10           6.00 2024-10-01\n"
     ]
    }
   ],
   "source": [
    "data = pd.read_csv(RAW_DATASET_DIR + \"interest.csv\")\n",
    "MONTH_ABBREVIATION_TO_NUMERIC = {\n",
    "    \"JAN\": \"01\",\n",
    "    \"FEB\": \"02\",\n",
    "    \"MAR\": \"03\",\n",
    "    \"APR\": \"04\",\n",
    "    \"MAY\": \"05\",\n",
    "    \"JUN\": \"06\",\n",
    "    \"JUL\": \"07\",\n",
    "    \"AUG\": \"08\",\n",
    "    \"SEP\": \"09\",\n",
    "    \"OCT\": \"10\",\n",
    "    \"NOV\": \"11\",\n",
    "    \"DEC\": \"12\",\n",
    "    \"AVE\":\"NA\",\n",
    "}\n",
    "data['Year'] = data['Year'].astype(str)\n",
    "data['Month'] = data['Month'].map(MONTH_ABBREVIATION_TO_NUMERIC)\n",
    "data['Date'] = data['Year'] + \"-\" + data['Month']\n",
    "data['Date'] = pd.to_datetime(data['Date'], format='%Y-%m')\n",
    "print(data)"
   ]
  },
  {
   "cell_type": "code",
   "execution_count": 4,
   "metadata": {},
   "outputs": [],
   "source": [
    "data.set_index('Date', inplace=True)\n",
    "\n",
    "# Reindex to have all months between the minimum and maximum dates\n",
    "date_range = pd.date_range(start=data.index.min(), end=data.index.max(), freq='MS')\n",
    "data_full = data.reindex(date_range)\n",
    "\n",
    "# Interpolate missing 'Rate' values\n",
    "data_full['Interest_rate'] = data_full['Interest_rate'].interpolate()\n",
    "\n",
    "# Reset index to include the full date range and optional to re-create Year/Month columns\n",
    "data_full = data_full.reset_index().rename(columns={'index': 'Date'})\n",
    "data_full['Year'] = data_full['Date'].dt.year\n",
    "data_full['Month'] = data_full['Date'].dt.month\n",
    "\n",
    "data_full = data_full.loc[:, ~data_full.columns.str.contains('^Unnamed')]\n",
    "data_full.to_csv(PROCESSED_OUTPUT_DIR + \"interest.csv\")\n"
   ]
  }
 ],
 "metadata": {
  "kernelspec": {
   "display_name": "venv",
   "language": "python",
   "name": "python3"
  },
  "language_info": {
   "codemirror_mode": {
    "name": "ipython",
    "version": 3
   },
   "file_extension": ".py",
   "mimetype": "text/x-python",
   "name": "python",
   "nbconvert_exporter": "python",
   "pygments_lexer": "ipython3",
   "version": "3.12.7"
  }
 },
 "nbformat": 4,
 "nbformat_minor": 2
}

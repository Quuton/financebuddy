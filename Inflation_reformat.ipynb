{
 "cells": [
  {
   "cell_type": "markdown",
   "metadata": {},
   "source": [
    "# Super quick script"
   ]
  },
  {
   "cell_type": "code",
   "execution_count": 1,
   "metadata": {},
   "outputs": [],
   "source": [
    "import os\n",
    "import pandas as pd"
   ]
  },
  {
   "cell_type": "code",
   "execution_count": 2,
   "metadata": {},
   "outputs": [],
   "source": [
    "INFLATION_FILEPATH = \"Raw datasets/inflation.csv\"\n",
    "OUTPUT_DIR = \"Processed Datasets/\"\n",
    "\n",
    "if not os.path.exists(OUTPUT_DIR):\n",
    "    os.mkdir(OUTPUT_DIR)\n"
   ]
  },
  {
   "cell_type": "code",
   "execution_count": 3,
   "metadata": {},
   "outputs": [
    {
     "name": "stdout",
     "output_type": "stream",
     "text": [
      "<bound method NDFrame.head of     Year     Month  Rate\n",
      "0   2019   January   4.4\n",
      "1   2020   January   3.0\n",
      "2   2021   January   3.7\n",
      "3   2022   January   3.0\n",
      "4   2023   January   8.7\n",
      "..   ...       ...   ...\n",
      "64  2019  December   2.4\n",
      "65  2020  December   3.3\n",
      "66  2021  December   3.1\n",
      "67  2022  December   8.1\n",
      "68  2023  December   3.9\n",
      "\n",
      "[69 rows x 3 columns]>\n"
     ]
    }
   ],
   "source": [
    "dataframe = pd.read_csv(INFLATION_FILEPATH, header=0, index_col=0)\n",
    "print(dataframe.head)"
   ]
  },
  {
   "cell_type": "code",
   "execution_count": 4,
   "metadata": {},
   "outputs": [
    {
     "name": "stdout",
     "output_type": "stream",
     "text": [
      "<bound method NDFrame.head of     Year  Month  Rate\n",
      "0   2019      1   4.4\n",
      "1   2020      1   3.0\n",
      "2   2021      1   3.7\n",
      "3   2022      1   3.0\n",
      "4   2023      1   8.7\n",
      "..   ...    ...   ...\n",
      "64  2019     12   2.4\n",
      "65  2020     12   3.3\n",
      "66  2021     12   3.1\n",
      "67  2022     12   8.1\n",
      "68  2023     12   3.9\n",
      "\n",
      "[69 rows x 3 columns]>\n"
     ]
    }
   ],
   "source": [
    "month_name_to_num = {\n",
    "    \"January\": 1,\n",
    "    \"February\": 2,\n",
    "    \"March\": 3,\n",
    "    \"April\": 4,\n",
    "    \"May\": 5,\n",
    "    \"June\": 6,\n",
    "    \"July\": 7,\n",
    "    \"August\": 8,\n",
    "    \"September\": 9,\n",
    "    \"October\": 10,\n",
    "    \"November\": 11,\n",
    "    \"December\": 12\n",
    "}\n",
    "dataframe['Month'] = dataframe['Month'].map(month_name_to_num)\n",
    "print(dataframe.head)\n",
    "dataframe.to_csv(OUTPUT_DIR + \"inflation.csv\")"
   ]
  }
 ],
 "metadata": {
  "kernelspec": {
   "display_name": "venv",
   "language": "python",
   "name": "python3"
  },
  "language_info": {
   "codemirror_mode": {
    "name": "ipython",
    "version": 3
   },
   "file_extension": ".py",
   "mimetype": "text/x-python",
   "name": "python",
   "nbconvert_exporter": "python",
   "pygments_lexer": "ipython3",
   "version": "3.12.7"
  }
 },
 "nbformat": 4,
 "nbformat_minor": 2
}
